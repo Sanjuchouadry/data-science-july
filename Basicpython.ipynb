{
  "nbformat": 4,
  "nbformat_minor": 0,
  "metadata": {
    "colab": {
      "provenance": []
    },
    "kernelspec": {
      "name": "python3",
      "display_name": "Python 3"
    },
    "language_info": {
      "name": "python"
    }
  },
  "cells": [
    {
      "cell_type": "code",
      "execution_count": null,
      "metadata": {
        "colab": {
          "base_uri": "https://localhost:8080/"
        },
        "id": "Kje574xOT77D",
        "outputId": "7e59c716-09ef-4eb4-f56c-7d4b182359ef"
      },
      "outputs": [
        {
          "output_type": "stream",
          "name": "stdout",
          "text": [
            "hello world\n"
          ]
        }
      ],
      "source": [
        "#syntax\n",
        "print(\"hello world\")"
      ]
    },
    {
      "cell_type": "code",
      "source": [
        "#comments\n",
        "#------#"
      ],
      "metadata": {
        "id": "nPLHUZ4HVAZJ"
      },
      "execution_count": null,
      "outputs": []
    },
    {
      "cell_type": "code",
      "source": [
        "#indentation are called spaces\n",
        "if(4>2):\n",
        "  print(\"four is greater than two\")"
      ],
      "metadata": {
        "colab": {
          "base_uri": "https://localhost:8080/"
        },
        "id": "ciR51MU8USOF",
        "outputId": "58486f9f-6959-4863-d57b-3e61c8832a24"
      },
      "execution_count": null,
      "outputs": [
        {
          "output_type": "stream",
          "name": "stdout",
          "text": [
            "four is greater than two\n"
          ]
        }
      ]
    },
    {
      "cell_type": "code",
      "source": [
        "#variables\n",
        "x=2\n",
        "y=3\n",
        "print(x)\n",
        "print(y)"
      ],
      "metadata": {
        "colab": {
          "base_uri": "https://localhost:8080/"
        },
        "id": "3cwRw3LyUwxM",
        "outputId": "f229faa0-ce24-48c8-f94c-256dc6856e7b"
      },
      "execution_count": null,
      "outputs": [
        {
          "output_type": "stream",
          "name": "stdout",
          "text": [
            "2\n",
            "3\n"
          ]
        }
      ]
    },
    {
      "cell_type": "code",
      "source": [
        "#find type\n",
        "x=6\n",
        "y=\"dog\"\n",
        "print(type(x))\n",
        "print(type(y))"
      ],
      "metadata": {
        "colab": {
          "base_uri": "https://localhost:8080/"
        },
        "id": "9Y5TAYP5VFia",
        "outputId": "93ce750d-9509-4d79-8f38-48d486c45479"
      },
      "execution_count": null,
      "outputs": [
        {
          "output_type": "stream",
          "name": "stdout",
          "text": [
            "<class 'int'>\n",
            "<class 'str'>\n"
          ]
        }
      ]
    },
    {
      "cell_type": "code",
      "source": [
        "#casting\n",
        "x=int(5)\n",
        "y=str(5)\n",
        "z=float(4)\n",
        "print(x)\n",
        "print(y)\n",
        "print(z)"
      ],
      "metadata": {
        "colab": {
          "base_uri": "https://localhost:8080/"
        },
        "id": "vwRj4x0RVbq3",
        "outputId": "a002bcc4-14f1-4322-bcde-75010951e8e5"
      },
      "execution_count": null,
      "outputs": [
        {
          "output_type": "stream",
          "name": "stdout",
          "text": [
            "5\n",
            "5\n",
            "4.0\n"
          ]
        }
      ]
    },
    {
      "cell_type": "code",
      "source": [
        "#string\n",
        "#str\n",
        "x=\"fox\"\n",
        "print(x)"
      ],
      "metadata": {
        "colab": {
          "base_uri": "https://localhost:8080/"
        },
        "id": "9vrRbGGIV7Lj",
        "outputId": "ab1a0f8e-0d0d-425a-e321-bf80be7391b8"
      },
      "execution_count": null,
      "outputs": [
        {
          "output_type": "stream",
          "name": "stdout",
          "text": [
            "fox\n"
          ]
        }
      ]
    },
    {
      "cell_type": "code",
      "source": [
        "#variables(A-Z,0-9,_ IS USED)\n",
        "#starts with alphabet end with number\n",
        "my_var=5\n",
        "myvar=6\n",
        "myvar8=9\n",
        "_myvar=5\n",
        "print(myvar)"
      ],
      "metadata": {
        "colab": {
          "base_uri": "https://localhost:8080/"
        },
        "id": "JD-646SrWIHX",
        "outputId": "38a7175d-4c0b-43e3-c547-bd3a0ad67db9"
      },
      "execution_count": null,
      "outputs": [
        {
          "output_type": "stream",
          "name": "stdout",
          "text": [
            "6\n"
          ]
        }
      ]
    },
    {
      "cell_type": "code",
      "source": [
        "#camelcase\n",
        "#Each word, except the first, starts with a capital letter:\n",
        "myVariableValue=8\n",
        "print(myVariableValue)"
      ],
      "metadata": {
        "colab": {
          "base_uri": "https://localhost:8080/"
        },
        "id": "jUKOsdpuWret",
        "outputId": "4ac699fe-f4d4-45b1-a306-0b0ff3b78606"
      },
      "execution_count": null,
      "outputs": [
        {
          "output_type": "stream",
          "name": "stdout",
          "text": [
            "8\n"
          ]
        }
      ]
    },
    {
      "cell_type": "code",
      "source": [
        "#Pascal Case\n",
        "#Each word starts with a capital letter:\n",
        "MyVariableValue=2\n",
        "print(MyVariableValue)"
      ],
      "metadata": {
        "colab": {
          "base_uri": "https://localhost:8080/"
        },
        "id": "0MNGVMSvW7pW",
        "outputId": "db270478-56bb-47a1-9d00-4c57c654f1e0"
      },
      "execution_count": null,
      "outputs": [
        {
          "output_type": "stream",
          "name": "stdout",
          "text": [
            "2\n"
          ]
        }
      ]
    },
    {
      "cell_type": "code",
      "source": [
        "#Snake Case\n",
        "#Each word is separated by an underscore character:\n",
        "my_variable_value=10\n",
        "print(my_variable_value)"
      ],
      "metadata": {
        "colab": {
          "base_uri": "https://localhost:8080/"
        },
        "id": "2GIBJktSXKkm",
        "outputId": "3377ebf3-625c-4051-9ee6-1180b23ca982"
      },
      "execution_count": null,
      "outputs": [
        {
          "output_type": "stream",
          "name": "stdout",
          "text": [
            "10\n"
          ]
        }
      ]
    },
    {
      "cell_type": "code",
      "source": [
        "#multiple values\n",
        "x,y,z=2,3,4\n",
        "print(x)\n",
        "print(y)\n",
        "print(z)\n",
        "x=y=z=\"banana\"\n",
        "print(x)\n",
        "print(y)\n",
        "print(z)"
      ],
      "metadata": {
        "colab": {
          "base_uri": "https://localhost:8080/"
        },
        "id": "jRG7zmRXXdZF",
        "outputId": "3fd44d16-f55a-491f-e9db-627505beb6d6"
      },
      "execution_count": null,
      "outputs": [
        {
          "output_type": "stream",
          "name": "stdout",
          "text": [
            "2\n",
            "3\n",
            "4\n",
            "banana\n",
            "banana\n",
            "banana\n"
          ]
        }
      ]
    },
    {
      "cell_type": "code",
      "source": [
        "#unpack collection\n",
        "fruits=[\"apple\",\"banana\",\"guava\"]\n",
        "x,y,z=fruits\n",
        "print(x)\n",
        "print(y)\n",
        "print(z)\n"
      ],
      "metadata": {
        "colab": {
          "base_uri": "https://localhost:8080/"
        },
        "id": "cohe5U1iYByW",
        "outputId": "98b1e8be-130c-4cf3-8adf-753748e5e926"
      },
      "execution_count": null,
      "outputs": [
        {
          "output_type": "stream",
          "name": "stdout",
          "text": [
            "apple\n",
            "banana\n",
            "guava\n"
          ]
        }
      ]
    },
    {
      "cell_type": "code",
      "source": [
        "#python datatypes\n",
        "#numeric type=int,float,complex\n",
        "x=7\n",
        "y=4.9\n",
        "z=8j\n",
        "print(x)\n",
        "print(y)\n",
        "print(z)\n",
        "\n",
        "\n"
      ],
      "metadata": {
        "colab": {
          "base_uri": "https://localhost:8080/"
        },
        "id": "N4Wos_NDYsmz",
        "outputId": "9e1a058d-57b7-4f55-da09-8ca5e9cb4e5f"
      },
      "execution_count": null,
      "outputs": [
        {
          "output_type": "stream",
          "name": "stdout",
          "text": [
            "7\n",
            "4.9\n",
            "8j\n"
          ]
        }
      ]
    },
    {
      "cell_type": "code",
      "source": [
        "#int\n",
        "x=55555\n",
        "y=-5563442\n",
        "print(x)\n",
        "print(y)\n"
      ],
      "metadata": {
        "colab": {
          "base_uri": "https://localhost:8080/"
        },
        "id": "29VWdWaOfFMn",
        "outputId": "c12e2b17-2d16-42d9-e095-956ab9ac58b1"
      },
      "execution_count": null,
      "outputs": [
        {
          "output_type": "stream",
          "name": "stdout",
          "text": [
            "55555\n",
            "-5563442\n"
          ]
        }
      ]
    },
    {
      "cell_type": "code",
      "source": [
        "#float\n",
        "x=1.0\n",
        "y=1.10\n",
        "z=-34.99\n",
        "print(x)\n",
        "print(y)\n",
        "print(z)"
      ],
      "metadata": {
        "colab": {
          "base_uri": "https://localhost:8080/"
        },
        "id": "7k900WoifVoO",
        "outputId": "0e96e866-ec1c-4a22-86e7-e982c526fc3d"
      },
      "execution_count": null,
      "outputs": [
        {
          "output_type": "stream",
          "name": "stdout",
          "text": [
            "1.0\n",
            "1.1\n",
            "-34.99\n"
          ]
        }
      ]
    },
    {
      "cell_type": "code",
      "source": [
        "#complex\n",
        "x=4j\n",
        "y=5+9j\n",
        "z=3j+4\n",
        "print(type(x))\n"
      ],
      "metadata": {
        "colab": {
          "base_uri": "https://localhost:8080/"
        },
        "id": "72Pa6Hd9fjdT",
        "outputId": "ebb53253-1330-4601-e794-f08f38460b4b"
      },
      "execution_count": null,
      "outputs": [
        {
          "output_type": "stream",
          "name": "stdout",
          "text": [
            "<class 'complex'>\n"
          ]
        }
      ]
    },
    {
      "cell_type": "code",
      "source": [
        "#strings are arrays\n",
        "a = \"hello world!\"\n",
        "print(a[3])\n",
        "print(len(a))"
      ],
      "metadata": {
        "colab": {
          "base_uri": "https://localhost:8080/"
        },
        "id": "y1qHzvoghRVX",
        "outputId": "127b2111-a9a1-4784-b199-2670e4f09392"
      },
      "execution_count": null,
      "outputs": [
        {
          "output_type": "stream",
          "name": "stdout",
          "text": [
            "l\n",
            "12\n"
          ]
        }
      ]
    },
    {
      "cell_type": "code",
      "source": [
        "#check string we use in keyword\n",
        "text=\"i am a girl\"\n",
        "print(\"girl\" in text)\n",
        "print(\"boy\" not in text)"
      ],
      "metadata": {
        "colab": {
          "base_uri": "https://localhost:8080/"
        },
        "id": "SoIOjeWxiKaf",
        "outputId": "d619edc8-14c2-4567-c98d-6bc9defa1a87"
      },
      "execution_count": null,
      "outputs": [
        {
          "output_type": "stream",
          "name": "stdout",
          "text": [
            "True\n",
            "True\n"
          ]
        }
      ]
    },
    {
      "cell_type": "code",
      "source": [
        "#slicing string\n",
        "#start index to end index\n",
        "x=\"hello,world\"\n",
        "print(x[3:6])\n",
        "print(x[:8])#from start\n",
        "print(x[2:])#to end"
      ],
      "metadata": {
        "colab": {
          "base_uri": "https://localhost:8080/"
        },
        "id": "QdSwlWeBkcp7",
        "outputId": "ab837721-c6ef-4a12-9adc-f65d03947d6b"
      },
      "execution_count": null,
      "outputs": [
        {
          "output_type": "stream",
          "name": "stdout",
          "text": [
            "lo,\n",
            "hello,wo\n",
            "llo,world\n"
          ]
        }
      ]
    },
    {
      "cell_type": "code",
      "source": [
        "#modify string\n",
        "#upper case\n",
        "x=\"boy\"\n",
        "print(x.upper())\n",
        "print(x.lower())\n"
      ],
      "metadata": {
        "colab": {
          "base_uri": "https://localhost:8080/"
        },
        "id": "JUOseg3_nlxm",
        "outputId": "a6d22c4c-3227-40e0-8e48-0119e4eb8482"
      },
      "execution_count": null,
      "outputs": [
        {
          "output_type": "stream",
          "name": "stdout",
          "text": [
            "BOY\n",
            "boy\n"
          ]
        }
      ]
    },
    {
      "cell_type": "code",
      "source": [
        "#strip string  removes white space\n",
        "x=\"   no\"\n",
        "print(x.strip())"
      ],
      "metadata": {
        "colab": {
          "base_uri": "https://localhost:8080/"
        },
        "id": "kignH6BooYBX",
        "outputId": "813a912f-1f26-4505-9040-e9bd911be331"
      },
      "execution_count": null,
      "outputs": [
        {
          "output_type": "stream",
          "name": "stdout",
          "text": [
            "no\n"
          ]
        }
      ]
    },
    {
      "cell_type": "code",
      "source": [
        "#replace string\n",
        "x=\"good\"\n",
        "print(x.replace(\"g\",\"f\"))"
      ],
      "metadata": {
        "colab": {
          "base_uri": "https://localhost:8080/"
        },
        "id": "8oo6oLomonFk",
        "outputId": "fc4853c5-a437-4cae-b84c-c8ce83271863"
      },
      "execution_count": null,
      "outputs": [
        {
          "output_type": "stream",
          "name": "stdout",
          "text": [
            "food\n"
          ]
        }
      ]
    },
    {
      "cell_type": "code",
      "source": [
        "#split string\n",
        "x=\"hello world\"\n",
        "print(x.split(\"w\"))"
      ],
      "metadata": {
        "colab": {
          "base_uri": "https://localhost:8080/"
        },
        "id": "w_wXhw1hqI0W",
        "outputId": "ca5b0569-5944-4a98-8e1c-8c9a14eb61ff"
      },
      "execution_count": null,
      "outputs": [
        {
          "output_type": "stream",
          "name": "stdout",
          "text": [
            "['hello ', 'orld']\n"
          ]
        }
      ]
    },
    {
      "cell_type": "code",
      "source": [
        "#string concatination\n",
        "x=\"dfg\"\n",
        "y=\"yoy\"\n",
        "print(x+y)\n",
        "#to add space\n",
        "print(x+\" \"+y)"
      ],
      "metadata": {
        "colab": {
          "base_uri": "https://localhost:8080/"
        },
        "id": "pfaQw9P0qlgg",
        "outputId": "0e495ba7-428e-40cc-ebf2-3b69d4f34ca8"
      },
      "execution_count": null,
      "outputs": [
        {
          "output_type": "stream",
          "name": "stdout",
          "text": [
            "dfgyoy\n",
            "dfg yoy\n"
          ]
        }
      ]
    },
    {
      "cell_type": "code",
      "source": [
        "#formate string\n",
        "#f stands for formate\n",
        "#in this we use both str and int so we use \"f\" str\n",
        "x=44\n",
        "txt=f\"my age is {x}\"\n",
        "print(txt)"
      ],
      "metadata": {
        "colab": {
          "base_uri": "https://localhost:8080/"
        },
        "id": "1FwlsWj4bZCH",
        "outputId": "5072f161-1d82-4923-99f3-29eac52aefa4"
      },
      "execution_count": null,
      "outputs": [
        {
          "output_type": "stream",
          "name": "stdout",
          "text": [
            "my age is 44\n"
          ]
        }
      ]
    },
    {
      "cell_type": "code",
      "source": [
        "#A placeholder can contain variables, operations, functions, and modifiers to format the value.\n",
        "price=44\n",
        "txt=f\"the price of banana is {price}\"\n",
        "print(txt)"
      ],
      "metadata": {
        "colab": {
          "base_uri": "https://localhost:8080/"
        },
        "id": "9exE0ewvcA7J",
        "outputId": "39c8c269-d8e0-43f0-fe62-2c0a88736ea2"
      },
      "execution_count": null,
      "outputs": [
        {
          "output_type": "stream",
          "name": "stdout",
          "text": [
            "the price of banana is 44\n"
          ]
        }
      ]
    },
    {
      "cell_type": "code",
      "source": [
        "#A modifier is included by adding a colon : followed by a legal formatting type, like .2f which means fixed point number with 2 decimals:\n",
        "price=55\n",
        "txt=f\"the price of vegetable is {price:2f} rupee\"\n",
        "print(txt)"
      ],
      "metadata": {
        "colab": {
          "base_uri": "https://localhost:8080/"
        },
        "id": "0vXcdhKHceJG",
        "outputId": "f3c2a805-dc1d-4ec0-c117-7ed0563c9797"
      },
      "execution_count": null,
      "outputs": [
        {
          "output_type": "stream",
          "name": "stdout",
          "text": [
            "the price of vegetable is 55.000000 rupee\n"
          ]
        }
      ]
    },
    {
      "cell_type": "code",
      "source": [
        "#escape character\n",
        "#An escape character is a backslash \\ followed by the character you want to insert.\n",
        "x=\"my name is \\\"khan\\\" and your good friend\"\n",
        "print(x)"
      ],
      "metadata": {
        "colab": {
          "base_uri": "https://localhost:8080/"
        },
        "id": "vJ-WKX9kdTEW",
        "outputId": "34cb65c4-1fe2-49eb-cf72-17e4c71232da"
      },
      "execution_count": null,
      "outputs": [
        {
          "output_type": "stream",
          "name": "stdout",
          "text": [
            "my name is \"khan\" and your good friend\n"
          ]
        }
      ]
    },
    {
      "cell_type": "code",
      "source": [
        "#String Methods\n",
        "#python has a set of built-in methods that you can use on strings.\n",
        "# All string methods return new values. They do not change the original string.\n"
      ],
      "metadata": {
        "id": "P32L-tiTe2GX"
      },
      "execution_count": null,
      "outputs": []
    },
    {
      "cell_type": "code",
      "source": [
        "#boolean tor f\n"
      ],
      "metadata": {
        "id": "aHWDhDjnf6JM"
      },
      "execution_count": null,
      "outputs": []
    }
  ]
}